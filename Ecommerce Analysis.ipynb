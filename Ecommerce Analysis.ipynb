{
 "cells": [
  {
   "cell_type": "code",
   "execution_count": 6,
   "id": "0bdcd374",
   "metadata": {},
   "outputs": [],
   "source": [
    "import pandas as pd\n",
    "import numpy as np\n",
    "from matplotlib import pyplot as plt\n",
    "%matplotlib inline\n",
    "import seaborn as sns"
   ]
  },
  {
   "cell_type": "code",
   "execution_count": 8,
   "id": "9ab9584c",
   "metadata": {},
   "outputs": [
    {
     "name": "stdout",
     "output_type": "stream",
     "text": [
      "       Order_Date      Time  Age  Customer_Id  Gender Device_Type  \\\n",
      "0      2018-01-02  10:56:33   36        37077  Female         Web   \n",
      "1      2018-07-24  20:41:37   54        59173  Female         Web   \n",
      "2      2018-11-08  08:38:49   32        41066  Female         Web   \n",
      "3      2018-04-18  19:28:06   43        50741  Female         Web   \n",
      "4      2018-08-13  21:18:39   48        53639  Female         Web   \n",
      "...           ...       ...  ...          ...     ...         ...   \n",
      "51285  2018-02-28  22:59:50   19        78489  Female      Mobile   \n",
      "51286  2018-02-28  13:19:25   40        91941  Female      Mobile   \n",
      "51287  2018-02-28  10:25:07   24        63313    Male         Web   \n",
      "51288  2018-02-28  10:50:08   47        86485    Male         Web   \n",
      "51289  2018-02-28  11:09:40   50        81129    Male         Web   \n",
      "\n",
      "      Customer_Login_type    Product_Category            Product  Sales  \\\n",
      "0                  Member  Auto & Accessories  Car Media Players  140.0   \n",
      "1                  Member  Auto & Accessories       Car Speakers  211.0   \n",
      "2                  Member  Auto & Accessories    Car Body Covers  117.0   \n",
      "3                  Member  Auto & Accessories    Car & Bike Care  118.0   \n",
      "4                  Member  Auto & Accessories               Tyre  250.0   \n",
      "...                   ...                 ...                ...    ...   \n",
      "51285              Member    Home & Furniture          Shoe Rack  124.0   \n",
      "51286              Member    Home & Furniture          Umbrellas   70.0   \n",
      "51287              Member    Home & Furniture    Dinner Crockery  133.0   \n",
      "51288              Member    Home & Furniture        Sofa Covers  216.0   \n",
      "51289              Member    Home & Furniture         Bed Sheets  211.0   \n",
      "\n",
      "       Quantity  Discount  Profit  Shipping_Cost Order_Priority  \\\n",
      "0           1.0       0.3    46.0            4.6         Medium   \n",
      "1           1.0       0.3   112.0           11.2         Medium   \n",
      "2           5.0       0.1    31.2            3.1       Critical   \n",
      "3           1.0       0.3    26.2            2.6           High   \n",
      "4           1.0       0.3   160.0           16.0       Critical   \n",
      "...         ...       ...     ...            ...            ...   \n",
      "51285       4.0       0.3    19.2            1.9         Medium   \n",
      "51286       5.0       0.2    14.0            1.4         Medium   \n",
      "51287       1.0       0.3    39.7            4.0         Medium   \n",
      "51288       1.0       0.2   131.7           13.2         Medium   \n",
      "51289       5.0       0.3    99.4            9.9         Medium   \n",
      "\n",
      "      Payment_method MKTG_Channel  \n",
      "0        credit_card        Email  \n",
      "1        credit_card      Youtube  \n",
      "2        credit_card        Email  \n",
      "3        credit_card      Organic  \n",
      "4        credit_card      Youtube  \n",
      "...              ...          ...  \n",
      "51285    money_order      Adwords  \n",
      "51286    credit_card     Facebook  \n",
      "51287    credit_card      Youtube  \n",
      "51288    credit_card      Adwords  \n",
      "51289    credit_card        Email  \n",
      "\n",
      "[51290 rows x 17 columns]\n"
     ]
    }
   ],
   "source": [
    "# Importing Ecommerce data set and viewing first 5 rows\n",
    "data = pd.read_csv(\"ecommerce.csv\")\n",
    "print(data)"
   ]
  },
  {
   "cell_type": "code",
   "execution_count": 10,
   "id": "a8174cc2",
   "metadata": {},
   "outputs": [
    {
     "data": {
      "text/html": [
       "<div>\n",
       "<style scoped>\n",
       "    .dataframe tbody tr th:only-of-type {\n",
       "        vertical-align: middle;\n",
       "    }\n",
       "\n",
       "    .dataframe tbody tr th {\n",
       "        vertical-align: top;\n",
       "    }\n",
       "\n",
       "    .dataframe thead th {\n",
       "        text-align: right;\n",
       "    }\n",
       "</style>\n",
       "<table border=\"1\" class=\"dataframe\">\n",
       "  <thead>\n",
       "    <tr style=\"text-align: right;\">\n",
       "      <th></th>\n",
       "      <th>Age</th>\n",
       "      <th>Customer_Id</th>\n",
       "      <th>Sales</th>\n",
       "      <th>Quantity</th>\n",
       "      <th>Discount</th>\n",
       "      <th>Profit</th>\n",
       "      <th>Shipping_Cost</th>\n",
       "    </tr>\n",
       "  </thead>\n",
       "  <tbody>\n",
       "    <tr>\n",
       "      <th>count</th>\n",
       "      <td>51290.000000</td>\n",
       "      <td>51290.000000</td>\n",
       "      <td>51289.000000</td>\n",
       "      <td>51288.000000</td>\n",
       "      <td>51289.000000</td>\n",
       "      <td>51290.000000</td>\n",
       "      <td>51289.000000</td>\n",
       "    </tr>\n",
       "    <tr>\n",
       "      <th>mean</th>\n",
       "      <td>41.428329</td>\n",
       "      <td>58155.758764</td>\n",
       "      <td>152.340872</td>\n",
       "      <td>2.502983</td>\n",
       "      <td>0.303821</td>\n",
       "      <td>70.407226</td>\n",
       "      <td>7.041557</td>\n",
       "    </tr>\n",
       "    <tr>\n",
       "      <th>std</th>\n",
       "      <td>13.885526</td>\n",
       "      <td>26032.215826</td>\n",
       "      <td>66.495419</td>\n",
       "      <td>1.511859</td>\n",
       "      <td>0.131027</td>\n",
       "      <td>48.729488</td>\n",
       "      <td>4.871745</td>\n",
       "    </tr>\n",
       "    <tr>\n",
       "      <th>min</th>\n",
       "      <td>18.000000</td>\n",
       "      <td>10000.000000</td>\n",
       "      <td>33.000000</td>\n",
       "      <td>1.000000</td>\n",
       "      <td>0.100000</td>\n",
       "      <td>0.500000</td>\n",
       "      <td>0.100000</td>\n",
       "    </tr>\n",
       "    <tr>\n",
       "      <th>25%</th>\n",
       "      <td>29.000000</td>\n",
       "      <td>35831.250000</td>\n",
       "      <td>85.000000</td>\n",
       "      <td>1.000000</td>\n",
       "      <td>0.200000</td>\n",
       "      <td>24.900000</td>\n",
       "      <td>2.500000</td>\n",
       "    </tr>\n",
       "    <tr>\n",
       "      <th>50%</th>\n",
       "      <td>41.000000</td>\n",
       "      <td>61018.000000</td>\n",
       "      <td>133.000000</td>\n",
       "      <td>2.000000</td>\n",
       "      <td>0.300000</td>\n",
       "      <td>59.900000</td>\n",
       "      <td>6.000000</td>\n",
       "    </tr>\n",
       "    <tr>\n",
       "      <th>75%</th>\n",
       "      <td>53.000000</td>\n",
       "      <td>80736.250000</td>\n",
       "      <td>218.000000</td>\n",
       "      <td>4.000000</td>\n",
       "      <td>0.400000</td>\n",
       "      <td>118.400000</td>\n",
       "      <td>11.800000</td>\n",
       "    </tr>\n",
       "    <tr>\n",
       "      <th>max</th>\n",
       "      <td>65.000000</td>\n",
       "      <td>99999.000000</td>\n",
       "      <td>250.000000</td>\n",
       "      <td>5.000000</td>\n",
       "      <td>0.500000</td>\n",
       "      <td>167.500000</td>\n",
       "      <td>16.800000</td>\n",
       "    </tr>\n",
       "  </tbody>\n",
       "</table>\n",
       "</div>"
      ],
      "text/plain": [
       "                Age   Customer_Id         Sales      Quantity      Discount  \\\n",
       "count  51290.000000  51290.000000  51289.000000  51288.000000  51289.000000   \n",
       "mean      41.428329  58155.758764    152.340872      2.502983      0.303821   \n",
       "std       13.885526  26032.215826     66.495419      1.511859      0.131027   \n",
       "min       18.000000  10000.000000     33.000000      1.000000      0.100000   \n",
       "25%       29.000000  35831.250000     85.000000      1.000000      0.200000   \n",
       "50%       41.000000  61018.000000    133.000000      2.000000      0.300000   \n",
       "75%       53.000000  80736.250000    218.000000      4.000000      0.400000   \n",
       "max       65.000000  99999.000000    250.000000      5.000000      0.500000   \n",
       "\n",
       "             Profit  Shipping_Cost  \n",
       "count  51290.000000   51289.000000  \n",
       "mean      70.407226       7.041557  \n",
       "std       48.729488       4.871745  \n",
       "min        0.500000       0.100000  \n",
       "25%       24.900000       2.500000  \n",
       "50%       59.900000       6.000000  \n",
       "75%      118.400000      11.800000  \n",
       "max      167.500000      16.800000  "
      ]
     },
     "execution_count": 10,
     "metadata": {},
     "output_type": "execute_result"
    }
   ],
   "source": [
    "# Descriptive statistics from the data\n",
    "data.describe()"
   ]
  },
  {
   "cell_type": "code",
   "execution_count": 11,
   "id": "e061bea8",
   "metadata": {},
   "outputs": [
    {
     "data": {
      "text/plain": [
       "Order_Date              object\n",
       "Time                    object\n",
       "Age                      int64\n",
       "Customer_Id              int64\n",
       "Gender                  object\n",
       "Device_Type             object\n",
       "Customer_Login_type     object\n",
       "Product_Category        object\n",
       "Product                 object\n",
       "Sales                  float64\n",
       "Quantity               float64\n",
       "Discount               float64\n",
       "Profit                 float64\n",
       "Shipping_Cost          float64\n",
       "Order_Priority          object\n",
       "Payment_method          object\n",
       "MKTG_Channel            object\n",
       "dtype: object"
      ]
     },
     "execution_count": 11,
     "metadata": {},
     "output_type": "execute_result"
    }
   ],
   "source": [
    "data.dtypes"
   ]
  },
  {
   "cell_type": "code",
   "execution_count": 12,
   "id": "b46f55f2",
   "metadata": {},
   "outputs": [],
   "source": [
    "# Data Cleaning"
   ]
  },
  {
   "cell_type": "code",
   "execution_count": 13,
   "id": "f56a6a2d",
   "metadata": {},
   "outputs": [
    {
     "name": "stdout",
     "output_type": "stream",
     "text": [
      "<class 'pandas.core.frame.DataFrame'>\n",
      "RangeIndex: 51290 entries, 0 to 51289\n",
      "Data columns (total 17 columns):\n",
      " #   Column               Non-Null Count  Dtype  \n",
      "---  ------               --------------  -----  \n",
      " 0   Order_Date           51290 non-null  object \n",
      " 1   Time                 51290 non-null  object \n",
      " 2   Age                  51290 non-null  int64  \n",
      " 3   Customer_Id          51290 non-null  int64  \n",
      " 4   Gender               51290 non-null  object \n",
      " 5   Device_Type          51290 non-null  object \n",
      " 6   Customer_Login_type  51290 non-null  object \n",
      " 7   Product_Category     51290 non-null  object \n",
      " 8   Product              51290 non-null  object \n",
      " 9   Sales                51289 non-null  float64\n",
      " 10  Quantity             51288 non-null  float64\n",
      " 11  Discount             51289 non-null  float64\n",
      " 12  Profit               51290 non-null  float64\n",
      " 13  Shipping_Cost        51289 non-null  float64\n",
      " 14  Order_Priority       51288 non-null  object \n",
      " 15  Payment_method       51290 non-null  object \n",
      " 16  MKTG_Channel         51290 non-null  object \n",
      "dtypes: float64(5), int64(2), object(10)\n",
      "memory usage: 6.7+ MB\n"
     ]
    }
   ],
   "source": [
    "data.info()"
   ]
  },
  {
   "cell_type": "code",
   "execution_count": 14,
   "id": "f883170a",
   "metadata": {},
   "outputs": [
    {
     "name": "stdout",
     "output_type": "stream",
     "text": [
      "<class 'pandas.core.frame.DataFrame'>\n",
      "Index: 51283 entries, 0 to 51289\n",
      "Data columns (total 17 columns):\n",
      " #   Column               Non-Null Count  Dtype  \n",
      "---  ------               --------------  -----  \n",
      " 0   Order_Date           51283 non-null  object \n",
      " 1   Time                 51283 non-null  object \n",
      " 2   Age                  51283 non-null  int64  \n",
      " 3   Customer_Id          51283 non-null  int64  \n",
      " 4   Gender               51283 non-null  object \n",
      " 5   Device_Type          51283 non-null  object \n",
      " 6   Customer_Login_type  51283 non-null  object \n",
      " 7   Product_Category     51283 non-null  object \n",
      " 8   Product              51283 non-null  object \n",
      " 9   Sales                51283 non-null  float64\n",
      " 10  Quantity             51283 non-null  float64\n",
      " 11  Discount             51283 non-null  float64\n",
      " 12  Profit               51283 non-null  float64\n",
      " 13  Shipping_Cost        51283 non-null  float64\n",
      " 14  Order_Priority       51283 non-null  object \n",
      " 15  Payment_method       51283 non-null  object \n",
      " 16  MKTG_Channel         51283 non-null  object \n",
      "dtypes: float64(5), int64(2), object(10)\n",
      "memory usage: 7.0+ MB\n"
     ]
    }
   ],
   "source": [
    "# Removing Null Values\n",
    "data = data.dropna()\n",
    "data.info()"
   ]
  },
  {
   "cell_type": "code",
   "execution_count": 15,
   "id": "cf452bef",
   "metadata": {},
   "outputs": [
    {
     "data": {
      "text/plain": [
       "Order_Date              object\n",
       "Time                    object\n",
       "Age                      int64\n",
       "Customer_Id              int64\n",
       "Gender                  object\n",
       "Device_Type             object\n",
       "Customer_Login_type     object\n",
       "Product_Category        object\n",
       "Product                 object\n",
       "Sales                  float64\n",
       "Quantity               float64\n",
       "Discount               float64\n",
       "Profit                 float64\n",
       "Shipping_Cost          float64\n",
       "Order_Priority          object\n",
       "Payment_method          object\n",
       "MKTG_Channel            object\n",
       "dtype: object"
      ]
     },
     "execution_count": 15,
     "metadata": {},
     "output_type": "execute_result"
    }
   ],
   "source": [
    "# Converting Age from float to integer\n",
    "\n",
    "data['Age'] = data['Age'].astype(int)\n",
    "data.dtypes"
   ]
  },
  {
   "cell_type": "code",
   "execution_count": 16,
   "id": "d0b652a0",
   "metadata": {},
   "outputs": [
    {
     "data": {
      "text/plain": [
       "Order_Date              object\n",
       "Time                    object\n",
       "Age                      int64\n",
       "Customer_Id              int64\n",
       "Gender                  object\n",
       "Device_Type             object\n",
       "Customer_Login_type     object\n",
       "Product_Category        object\n",
       "Product                 object\n",
       "Sales                  float64\n",
       "Quantity               float64\n",
       "Discount               float64\n",
       "Profit                 float64\n",
       "Shipping_Cost          float64\n",
       "Order_Priority          object\n",
       "Payment_method          object\n",
       "MKTG_Channel            object\n",
       "dtype: object"
      ]
     },
     "execution_count": 16,
     "metadata": {},
     "output_type": "execute_result"
    }
   ],
   "source": [
    "# Converting Date from Object to Date type\n",
    "data['Order_Date'] = pd.to_datetime(data['Order_Date'], errors='coerce').dt.date\n",
    "data.dtypes"
   ]
  },
  {
   "cell_type": "code",
   "execution_count": 17,
   "id": "f623e08e",
   "metadata": {},
   "outputs": [],
   "source": [
    "# Explanatory Analysis"
   ]
  },
  {
   "cell_type": "code",
   "execution_count": 18,
   "id": "d3016ce5",
   "metadata": {},
   "outputs": [
    {
     "data": {
      "text/plain": [
       "Product_Category\n",
       "Fashion               25646\n",
       "Home & Furniture      15438\n",
       "Auto & Accessories     7498\n",
       "Electronic             2701\n",
       "Name: count, dtype: int64"
      ]
     },
     "execution_count": 18,
     "metadata": {},
     "output_type": "execute_result"
    }
   ],
   "source": [
    "# Breakdown of Different Product Categories\n",
    "product_categories = data['Product_Category'].value_counts()\n",
    "product_categories\n"
   ]
  },
  {
   "cell_type": "code",
   "execution_count": 19,
   "id": "5ee8c543",
   "metadata": {},
   "outputs": [
    {
     "data": {
      "text/plain": [
       "Text(0.5, 1.0, 'Total Items Sold By Product Category')"
      ]
     },
     "execution_count": 19,
     "metadata": {},
     "output_type": "execute_result"
    },
    {
     "data": {
      "image/png": "[encoded data removed]",
      "text/plain": [
       "<Figure size 640x480 with 1 Axes>"
      ]
     },
     "metadata": {},
     "output_type": "display_data"
    }
   ],
   "source": [
    "# Graph of Product Categories Sold\n",
    "product_categories_graph = product_categories.plot.bar(x='Product Category', y='Total Items Sold', rot=90, title='Total Items Sold By Product Category')\n",
    "\n",
    "# Adding labels and title\n",
    "plt.xlabel('Product Category')\n",
    "plt.ylabel('Number of Items Sold')\n",
    "plt.title('Total Items Sold By Product Category')"
   ]
  },
  {
   "cell_type": "code",
   "execution_count": 20,
   "id": "ec0fb9c1",
   "metadata": {},
   "outputs": [
    {
     "data": {
      "text/plain": [
       "Product_Category\n",
       "Fashion               4345914.0\n",
       "Home & Furniture      1975831.0\n",
       "Auto & Accessories    1095821.0\n",
       "Electronic             394738.0\n",
       "Name: Sales, dtype: float64"
      ]
     },
     "execution_count": 20,
     "metadata": {},
     "output_type": "execute_result"
    }
   ],
   "source": [
    "# Sales in Dollars by Product Category\n",
    "Product_sales = data.groupby('Product_Category')['Sales'].sum().sort_values(ascending=False)\n",
    "Product_sales"
   ]
  },
  {
   "cell_type": "code",
   "execution_count": 154,
   "id": "f6006520",
   "metadata": {},
   "outputs": [
    {
     "data": {
      "image/png": "[encoded data removed]",
      "text/plain": [
       "<Figure size 640x480 with 1 Axes>"
      ]
     },
     "metadata": {},
     "output_type": "display_data"
    }
   ],
   "source": [
    "# Graph of Sales in Dollars by Product Category\n",
    "Product_sales_graph = Product_sales.plot.bar(x='Product Category', y='Items Sold in Dollars', rot=90, title='Total Items Sold in Dollars By Product Category')\n",
    "\n",
    "# Adding labels and title\n",
    "plt.xlabel('Product Category')\n",
    "plt.ylabel('Items Sold in Dollars')\n",
    "plt.title('Total Items Sold in Dollars By Product Category')\n",
    "\n",
    "# Disable scientific notation\n",
    "plt.gca().get_yaxis().get_major_formatter().set_scientific(False)\n",
    "\n",
    "# Set y ticks to start from 0 and go up to 4,500,000 in increments of 500,000\n",
    "y_ticks = np.arange(0, 4500000, 500000)\n",
    "plt.yticks(y_ticks, [f'{int(val):,}' for val in y_ticks])\n",
    "\n",
    "\n",
    "# Adjust layout to prevent overlapping and increase space between ticks\n",
    "plt.tight_layout()\n",
    "plt.subplots_adjust(left=0.1, right=0.9, top=0.9, bottom=0.1)\n",
    "\n",
    "\n"
   ]
  },
  {
   "cell_type": "code",
   "execution_count": 22,
   "id": "c5ac376d",
   "metadata": {},
   "outputs": [
    {
     "data": {
      "text/plain": [
       "count    51283.000000\n",
       "mean        41.427881\n",
       "std         13.885263\n",
       "min         18.000000\n",
       "25%         29.000000\n",
       "50%         41.000000\n",
       "75%         53.000000\n",
       "max         65.000000\n",
       "Name: Age, dtype: float64"
      ]
     },
     "execution_count": 22,
     "metadata": {},
     "output_type": "execute_result"
    }
   ],
   "source": [
    "# Analyzing Different Age Groups To Put Them Into Bins\n",
    "# Bins will be: Gen Z, Millennials, Gen X & Baby Boomers\n",
    "\n",
    "data['Age'].describe()"
   ]
  },
  {
   "cell_type": "code",
   "execution_count": 23,
   "id": "246604ff",
   "metadata": {},
   "outputs": [],
   "source": [
    "# Define bins as (0 - 25, 26 - 41, 42 - 57, 58 - 76)\n",
    "bins = [0, 25, 41, 57, 76]\n",
    "\n",
    "# Group Names For Bins\n",
    "group_names = [\"Gen Z\", \"Millennials\", \"Gen X\", \"Baby Boomers\"]\n",
    "\n",
    "# Adding New Age Bucket Column\n",
    "data['Age_Buckets'] = pd.cut(data['Age'], bins, labels=group_names)"
   ]
  },
  {
   "cell_type": "code",
   "execution_count": 24,
   "id": "5d02e1b1",
   "metadata": {},
   "outputs": [
    {
     "data": {
      "text/plain": [
       "Age_Buckets\n",
       "Gen X           17157\n",
       "Millennials     16959\n",
       "Gen Z            8711\n",
       "Baby Boomers     8456\n",
       "Name: count, dtype: int64"
      ]
     },
     "execution_count": 24,
     "metadata": {},
     "output_type": "execute_result"
    }
   ],
   "source": [
    "# Total Purchases by Age Group\n",
    "Age_Purchases = data['Age_Buckets'].value_counts()\n",
    "Age_Purchases"
   ]
  },
  {
   "cell_type": "code",
   "execution_count": 25,
   "id": "04c2f830",
   "metadata": {},
   "outputs": [
    {
     "data": {
      "text/plain": [
       "Text(0.5, 1.0, 'Total Items Bought By Age Group')"
      ]
     },
     "execution_count": 25,
     "metadata": {},
     "output_type": "execute_result"
    },
    {
     "data": {
      "image/png": "[encoded data removed]",
      "text/plain": [
       "<Figure size 640x480 with 1 Axes>"
      ]
     },
     "metadata": {},
     "output_type": "display_data"
    }
   ],
   "source": [
    "# Graph of Number of Purchases by Age Group\n",
    "Age_Purchases_Graph = Age_Purchases.plot.bar(x='Age_Purchases', ylim=3000, rot=90, title='Amount of Purchases By Age Group')\n",
    "\n",
    "# Adding labels and title\n",
    "plt.xlabel('Age Group')\n",
    "plt.ylabel('Number of Items Bought')\n",
    "plt.title('Total Items Bought By Age Group')"
   ]
  },
  {
   "cell_type": "code",
   "execution_count": 26,
   "id": "9f948298",
   "metadata": {},
   "outputs": [
    {
     "data": {
      "text/plain": [
       "Age_Buckets\n",
       "Gen X           2619009.0\n",
       "Millennials     2570408.0\n",
       "Gen Z           1330427.0\n",
       "Baby Boomers    1292460.0\n",
       "Name: Sales, dtype: float64"
      ]
     },
     "execution_count": 26,
     "metadata": {},
     "output_type": "execute_result"
    }
   ],
   "source": [
    "# Sales in Dollars by Product Category\n",
    "Age_sales = data.groupby('Age_Buckets')['Sales'].sum().sort_values(ascending=False)\n",
    "Age_sales"
   ]
  },
  {
   "cell_type": "code",
   "execution_count": 152,
   "id": "ca4ce30a",
   "metadata": {},
   "outputs": [
    {
     "data": {
      "image/png": "[encoded data removed]",
      "text/plain": [
       "<Figure size 640x480 with 1 Axes>"
      ]
     },
     "metadata": {},
     "output_type": "display_data"
    }
   ],
   "source": [
    "# Graph of Sales in Dollars by Age Group\n",
    "Age_sales_Graph = Age_sales.plot.bar(x='Age_sales', y='Items Sold in Dollars', rot=90, title='Total Items Sold in Dollars By Age Group')\n",
    "\n",
    "# Adding labels and title\n",
    "plt.xlabel('Age Group')\n",
    "plt.ylabel('Sales in Dollars')\n",
    "plt.title('Total Items Sold in Dollars By Age Group')\n",
    "\n",
    "# Disable scientific notation\n",
    "plt.gca().get_yaxis().get_major_formatter().set_scientific(False)\n",
    "\n",
    "# Set y ticks to start from 0 and go up to 3,000,000 in increments of 500,000\n",
    "y_ticks = np.arange(0, 3500000, 500000)\n",
    "plt.yticks(y_ticks, [f'{int(val):,}' for val in y_ticks])\n",
    "\n",
    "\n",
    "# Adjust layout to prevent overlapping and increase space between ticks\n",
    "plt.tight_layout()\n",
    "plt.subplots_adjust(left=0.1, right=0.9, top=0.9, bottom=0.1)"
   ]
  },
  {
   "cell_type": "code",
   "execution_count": 146,
   "id": "b3317657",
   "metadata": {},
   "outputs": [
    {
     "data": {
      "text/plain": [
       "MKTG_Channel\n",
       "Organic     1572991.0\n",
       "Facebook    1571728.0\n",
       "Email       1559728.0\n",
       "Youtube     1558394.0\n",
       "Adwords     1549463.0\n",
       "Name: Sales, dtype: float64"
      ]
     },
     "execution_count": 146,
     "metadata": {},
     "output_type": "execute_result"
    }
   ],
   "source": [
    "# Sales in Dollars by Marketing Channel\n",
    "MKTG_sales = data.groupby('MKTG_Channel')['Sales'].sum().sort_values(ascending=False)\n",
    "MKTG_sales"
   ]
  },
  {
   "cell_type": "code",
   "execution_count": 153,
   "id": "e1447a54",
   "metadata": {},
   "outputs": [
    {
     "data": {
      "image/png": "[encoded data removed]",
      "text/plain": [
       "<Figure size 640x480 with 1 Axes>"
      ]
     },
     "metadata": {},
     "output_type": "display_data"
    }
   ],
   "source": [
    "# Graph of Sales in Dollars by Marketing Channel\n",
    "MKTG_sales_graph = MKTG_sales.plot.bar(x='MKTG_sales', ylim=3000, rot=90, title='Sales in Dollars By Marketing Channel')\n",
    "\n",
    "# Adding labels and title\n",
    "plt.xlabel('Marketing Channel')\n",
    "plt.ylabel('Sales in Dollars')\n",
    "plt.title('Sales in Dollars By Marketing Channel')\n",
    "\n",
    "# Disable scientific notation\n",
    "plt.gca().get_yaxis().get_major_formatter().set_scientific(False)\n",
    "\n",
    "# Set y ticks to start from 0 and go up to 2,000,000 in increments of 250,000\n",
    "y_ticks = np.arange(0, 2000000, 250000)\n",
    "plt.yticks(y_ticks, [f'{int(val):,}' for val in y_ticks])\n",
    "\n",
    "\n",
    "# Adjust layout to prevent overlapping and increase space between ticks\n",
    "plt.tight_layout()\n",
    "plt.subplots_adjust(left=0.1, right=0.9, top=0.9, bottom=0.1)\n"
   ]
  },
  {
   "cell_type": "code",
   "execution_count": 40,
   "id": "04c131f2",
   "metadata": {},
   "outputs": [
    {
     "name": "stdout",
     "output_type": "stream",
     "text": [
      "Requirement already satisfied: statsmodels in ./anaconda3/lib/python3.11/site-packages (0.14.0)\n",
      "Requirement already satisfied: pandas in ./anaconda3/lib/python3.11/site-packages (2.0.3)\n",
      "Requirement already satisfied: numpy>=1.18 in ./anaconda3/lib/python3.11/site-packages (from statsmodels) (1.24.3)\n",
      "Requirement already satisfied: scipy!=1.9.2,>=1.4 in ./anaconda3/lib/python3.11/site-packages (from statsmodels) (1.11.1)\n",
      "Requirement already satisfied: patsy>=0.5.2 in ./anaconda3/lib/python3.11/site-packages (from statsmodels) (0.5.3)\n",
      "Requirement already satisfied: packaging>=21.3 in ./anaconda3/lib/python3.11/site-packages (from statsmodels) (23.1)\n",
      "Requirement already satisfied: python-dateutil>=2.8.2 in ./anaconda3/lib/python3.11/site-packages (from pandas) (2.8.2)\n",
      "Requirement already satisfied: pytz>=2020.1 in ./anaconda3/lib/python3.11/site-packages (from pandas) (2023.3.post1)\n",
      "Requirement already satisfied: tzdata>=2022.1 in ./anaconda3/lib/python3.11/site-packages (from pandas) (2023.3)\n",
      "Requirement already satisfied: six in ./anaconda3/lib/python3.11/site-packages (from patsy>=0.5.2->statsmodels) (1.16.0)\n"
     ]
    }
   ],
   "source": [
    "# Logistic Regression \n",
    "!pip install statsmodels pandas\n",
    "import statsmodels.api as sm"
   ]
  },
  {
   "cell_type": "code",
   "execution_count": 101,
   "id": "bff71bac",
   "metadata": {},
   "outputs": [],
   "source": [
    "# Predicting the probability of purchasing each product category"
   ]
  },
  {
   "cell_type": "code",
   "execution_count": 30,
   "id": "6267f376",
   "metadata": {},
   "outputs": [],
   "source": [
    "# creating dummy variable for product category\n",
    "# Use get_dummies to create binary columns for each product category\n",
    "product_category_dummies = pd.get_dummies(data['Product_Category'])\n",
    "\n",
    "# Concatenate the new binary columns with the original DataFrame\n",
    "data = pd.concat([data, product_category_dummies], axis=1)"
   ]
  },
  {
   "cell_type": "code",
   "execution_count": 31,
   "id": "3eccb675",
   "metadata": {},
   "outputs": [],
   "source": [
    "# renaming column names for easier access\n",
    "column_mapping = {'Auto & Accessories': 'Auto', 'Home & Furniture': 'Home_furniture'}\n",
    "data = data.rename(columns=column_mapping)"
   ]
  },
  {
   "cell_type": "code",
   "execution_count": 32,
   "id": "c7b2304d",
   "metadata": {},
   "outputs": [],
   "source": [
    "# creating dummy variable for mktg channels\n",
    "# Use get_dummies to create binary columns for each product category\n",
    "mktg_channel_dummies = pd.get_dummies(data['MKTG_Channel'])\n",
    "\n",
    "# Concatenate the new binary columns with the original DataFrame\n",
    "data = pd.concat([data, mktg_channel_dummies], axis=1)"
   ]
  },
  {
   "cell_type": "code",
   "execution_count": 33,
   "id": "fefa2ff6",
   "metadata": {},
   "outputs": [],
   "source": [
    "# creating dummy variable for gender\n",
    "# Replace 'Male' with 0 and 'Female' with 1 in the 'Gender' column\n",
    "data['Gender'] = data['Gender'].replace({'Male': 0, 'Female': 1})\n"
   ]
  },
  {
   "cell_type": "code",
   "execution_count": 34,
   "id": "22e743f4",
   "metadata": {},
   "outputs": [],
   "source": [
    "# creating dummy variable for device type\n",
    "# Replace 'Web' with 1 and 'Mobile' with 0 in the 'device_type' column\n",
    "data['Device_Type'] = data['Device_Type'].replace({'Web': 1, 'Mobile': 0})"
   ]
  },
  {
   "cell_type": "code",
   "execution_count": 35,
   "id": "178e4cac",
   "metadata": {},
   "outputs": [],
   "source": [
    "# creating dummy variable for customer log in type\n",
    "# Use get_dummies to create binary columns for each log in type\n",
    "customer_dummies = pd.get_dummies(data['Customer_Login_type'])\n",
    "\n",
    "# Concatenate the new binary columns with the original DataFrame\n",
    "data = pd.concat([data, customer_dummies], axis=1)\n",
    "\n",
    "# renaming first sign up \n",
    "column_mapping1 = {'First SignUp': 'FirstSignUp'}\n",
    "data = data.rename(columns=column_mapping1)\n",
    "\n",
    "# renaming New column\n",
    "column_mapping2 = {'New ': 'New'}\n",
    "data = data.rename(columns=column_mapping2)"
   ]
  },
  {
   "cell_type": "code",
   "execution_count": 38,
   "id": "c0dfbbbc",
   "metadata": {},
   "outputs": [],
   "source": [
    "# List of columns to convert\n",
    "columns_to_convert = ['Auto', 'Electronic', 'Fashion', 'Home_furniture', 'Adwords', 'Email', 'Facebook', 'Organic',\n",
    "                     'Youtube', 'FirstSignUp', 'Guest', 'Member', 'New']  \n",
    "\n",
    "# Iterate through columns and convert boolean values to integers\n",
    "for column in columns_to_convert:\n",
    "    data[column] = data[column].astype(int)"
   ]
  },
  {
   "cell_type": "code",
   "execution_count": 112,
   "id": "84e1c52f",
   "metadata": {},
   "outputs": [
    {
     "name": "stdout",
     "output_type": "stream",
     "text": [
      "Optimization terminated successfully.\n",
      "         Current function value: 0.203822\n",
      "         Iterations 7\n",
      "                           Logit Regression Results                           \n",
      "==============================================================================\n",
      "Dep. Variable:             Electronic   No. Observations:                51283\n",
      "Model:                          Logit   Df Residuals:                    51279\n",
      "Method:                           MLE   Df Model:                            3\n",
      "Date:                Thu, 14 Dec 2023   Pseudo R-squ.:                 0.01200\n",
      "Time:                        20:38:13   Log-Likelihood:                -10453.\n",
      "converged:                       True   LL-Null:                       -10580.\n",
      "Covariance Type:            nonrobust   LLR p-value:                 8.858e-55\n",
      "===============================================================================\n",
      "                  coef    std err          z      P>|z|      [0.025      0.975]\n",
      "-------------------------------------------------------------------------------\n",
      "const          -2.9514      0.065    -45.166      0.000      -3.079      -2.823\n",
      "Age            -0.0037      0.001     -2.566      0.010      -0.006      -0.001\n",
      "Gender          0.3887      0.040      9.725      0.000       0.310       0.467\n",
      "FirstSignUp     2.1929      0.161     13.650      0.000       1.878       2.508\n",
      "===============================================================================\n"
     ]
    }
   ],
   "source": [
    "# Logistic Regression for Electronic Category\n",
    "\n",
    "y = data['Electronic']\n",
    "X = data[[ 'Age', 'Gender', 'FirstSignUp']]\n",
    "\n",
    "# Add a constant term to the features (required for statsmodels)\n",
    "X = sm.add_constant(X)\n",
    "\n",
    "# Create a logistic regression model\n",
    "logreg = sm.Logit(y, X)\n",
    "\n",
    "# Fit the model\n",
    "result = logreg.fit()\n",
    "\n",
    "# Display the summary of the model\n",
    "print(result.summary())\n"
   ]
  },
  {
   "cell_type": "markdown",
   "id": "9a6423d5",
   "metadata": {},
   "source": [
    "# Logisitic Regression analyzing the significant variables in purchasing an item for the electronic category. \n",
    "\n",
    "\n",
    "Model Interpretation: \n",
    "Constant- When all other coeffecients are 0 or not present the odds of purchasing an electronic decreases by exp(-2.9514) or 94.78%\n",
    "\n",
    "Age- A 1 year increase in age decreases the odds of buying an electronic by exp(-0.0037) or 0.37% keeping everything else constant.\n",
    "\n",
    "Gender- With 1 representing female, the odds of purchasing an electronic increases by exp(0.3887) or 47.59% if the customer is a female.\n",
    "\n",
    "FirstSignUp- When a customer logs in as a first sign up for the ecommerce store, the odds of purchasing an electronic increases by exp(2.1929) or 796.52%.\n",
    "\n",
    "\n",
    "Note: \n",
    "Marketing Channel variables (Facebook, Email, Youtube, Adwords & Organic) all proved to be insignificant predictors of purchase probability\n",
    "\n",
    "Device Type proved to be a significant variable with a small p-value, however, its standard error and confidence inerval was large."
   ]
  },
  {
   "cell_type": "code",
   "execution_count": 119,
   "id": "3cd5b2f8",
   "metadata": {},
   "outputs": [
    {
     "name": "stdout",
     "output_type": "stream",
     "text": [
      "Optimization terminated successfully.\n",
      "         Current function value: 0.689716\n",
      "         Iterations 5\n",
      "                           Logit Regression Results                           \n",
      "==============================================================================\n",
      "Dep. Variable:                Fashion   No. Observations:                51283\n",
      "Model:                          Logit   Df Residuals:                    51278\n",
      "Method:                           MLE   Df Model:                            4\n",
      "Date:                Thu, 14 Dec 2023   Pseudo R-squ.:                0.004951\n",
      "Time:                        20:45:05   Log-Likelihood:                -35371.\n",
      "converged:                       True   LL-Null:                       -35547.\n",
      "Covariance Type:            nonrobust   LLR p-value:                 6.639e-75\n",
      "===============================================================================\n",
      "                  coef    std err          z      P>|z|      [0.025      0.975]\n",
      "-------------------------------------------------------------------------------\n",
      "const           0.5689      0.044     12.826      0.000       0.482       0.656\n",
      "Age             0.0013      0.001      2.048      0.041    5.64e-05       0.003\n",
      "Gender         -0.0801      0.018     -4.494      0.000      -0.115      -0.045\n",
      "New             1.2324      0.465      2.650      0.008       0.321       2.144\n",
      "Device_Type    -0.6310      0.036    -17.666      0.000      -0.701      -0.561\n",
      "===============================================================================\n"
     ]
    }
   ],
   "source": [
    "# Logistic Regression for Fashion Category\n",
    "\n",
    "y = data['Fashion']\n",
    "X = data[[ 'Age', 'Gender', 'New', 'Device_Type']]\n",
    "\n",
    "# Add a constant term to the features (required for statsmodels)\n",
    "X = sm.add_constant(X)\n",
    "\n",
    "# Create a logistic regression model\n",
    "logreg = sm.Logit(y, X)\n",
    "\n",
    "# Fit the model\n",
    "result = logreg.fit()\n",
    "\n",
    "# Display the summary of the model\n",
    "print(result.summary())"
   ]
  },
  {
   "cell_type": "markdown",
   "id": "63cab032",
   "metadata": {},
   "source": [
    "# Logisitic Regression analyzing the significant variables in purchasing an item from the fashion category. \n",
    "\n",
    "Model Interpretation: Constant- When all other coeffecients are 0 or not present the odds of purchasing a fashion item increases by exp(0.5629) or 76.42%\n",
    "\n",
    "Age- A 1 year increase in age increases the odds of buying a fashion item by exp(0.0013) or 0.13% keeping everything else constant.\n",
    "\n",
    "Gender- With 1 representing female, the odds of purchasing a fashion item decreases by exp(-0.0801) or 7.63% if the customer is a female.\n",
    "\n",
    "New- When a customer logs in as a new customer, the odds of purchasing a fashion item increases by exp(1.2324) or 242.93%.\n",
    "\n",
    "Device Type- With 1 representing log in by web/computer, the odds of purchasing a fashion item decreases by exp(-0.6310) or 46.73% when a customer logged in by a computer compared to mobile.\n",
    "\n",
    "\n",
    "Note: Marketing Channel variables (Facebook, Email, Youtube, Adwords & Organic) all proved to be insignificant predictors of purchase probability\n",
    "\n"
   ]
  },
  {
   "cell_type": "code",
   "execution_count": 133,
   "id": "6fa9a679",
   "metadata": {},
   "outputs": [
    {
     "name": "stdout",
     "output_type": "stream",
     "text": [
      "Optimization terminated successfully.\n",
      "         Current function value: 0.408793\n",
      "         Iterations 6\n",
      "                           Logit Regression Results                           \n",
      "==============================================================================\n",
      "Dep. Variable:                   Auto   No. Observations:                51283\n",
      "Model:                          Logit   Df Residuals:                    51279\n",
      "Method:                           MLE   Df Model:                            3\n",
      "Date:                Thu, 14 Dec 2023   Pseudo R-squ.:                 0.01750\n",
      "Time:                        21:04:25   Log-Likelihood:                -20964.\n",
      "converged:                       True   LL-Null:                       -21338.\n",
      "Covariance Type:            nonrobust   LLR p-value:                1.393e-161\n",
      "==============================================================================\n",
      "                 coef    std err          z      P>|z|      [0.025      0.975]\n",
      "------------------------------------------------------------------------------\n",
      "const         -1.5940      0.074    -21.614      0.000      -1.739      -1.449\n",
      "Age           -0.0019      0.001     -2.141      0.032      -0.004      -0.000\n",
      "Gender        -0.7078      0.027    -26.439      0.000      -0.760      -0.655\n",
      "Member         0.1940      0.065      2.997      0.003       0.067       0.321\n",
      "==============================================================================\n"
     ]
    }
   ],
   "source": [
    "# Logistic Regression for Auto and Accessory Category\n",
    "\n",
    "y = data['Auto']\n",
    "X = data[[ 'Age', 'Gender', 'Member']]\n",
    "\n",
    "# Add a constant term to the features (required for statsmodels)\n",
    "X = sm.add_constant(X)\n",
    "\n",
    "# Create a logistic regression model\n",
    "logreg = sm.Logit(y, X)\n",
    "\n",
    "# Fit the model\n",
    "result = logreg.fit()\n",
    "\n",
    "# Display the summary of the model\n",
    "print(result.summary())"
   ]
  },
  {
   "cell_type": "markdown",
   "id": "9fb7c71d",
   "metadata": {},
   "source": [
    "# Logisitic Regression analyzing the significant variables in purchasing an item from the Auto & Accessory category\n",
    "\n",
    "Model Interpretation: Constant- When all other coeffecients are 0 or not present the odds of purchasing an auto and accessory item decreases by exp(-1.5940) or 79.63%\n",
    "\n",
    "Age- A 1 year increase in age decreases the odds of buying an auto and accessory item by exp(-0.0019) or 0.19% keeping everything else constant.\n",
    "\n",
    "Gender- With 1 representing female, the odds of purchasing an auto and accessory decreases by exp(-0.7078) or 50.67% if the customer is a female.\n",
    "\n",
    "Member- When a customer logs in as a member, the odds of purchasing an auto and accessory item increases by exp(0.1940) or 21.37%.\n",
    "\n",
    "\n",
    "\n",
    "Note: \n",
    "\n",
    "Marketing Channel variables (Facebook, Email, Youtube, Adwords & Organic) all proved to be insignificant predictors of purchase probability\n",
    "\n",
    "Device Type proved to be not significant"
   ]
  },
  {
   "cell_type": "code",
   "execution_count": 145,
   "id": "bfc009fa",
   "metadata": {},
   "outputs": [
    {
     "name": "stdout",
     "output_type": "stream",
     "text": [
      "Optimization terminated successfully.\n",
      "         Current function value: 0.607282\n",
      "         Iterations 6\n",
      "                           Logit Regression Results                           \n",
      "==============================================================================\n",
      "Dep. Variable:         Home_furniture   No. Observations:                51283\n",
      "Model:                          Logit   Df Residuals:                    51278\n",
      "Method:                           MLE   Df Model:                            4\n",
      "Date:                Thu, 14 Dec 2023   Pseudo R-squ.:                0.007285\n",
      "Time:                        21:07:13   Log-Likelihood:                -31143.\n",
      "converged:                       True   LL-Null:                       -31372.\n",
      "Covariance Type:            nonrobust   LLR p-value:                 1.263e-97\n",
      "===============================================================================\n",
      "                  coef    std err          z      P>|z|      [0.025      0.975]\n",
      "-------------------------------------------------------------------------------\n",
      "const          -0.8007      0.046    -17.321      0.000      -0.891      -0.710\n",
      "Age             0.0005      0.001      0.761      0.447      -0.001       0.002\n",
      "Gender          0.3766      0.019     19.443      0.000       0.339       0.415\n",
      "FirstSignUp    -0.9528      0.207     -4.600      0.000      -1.359      -0.547\n",
      "Device_Type    -0.2571      0.036     -7.127      0.000      -0.328      -0.186\n",
      "===============================================================================\n"
     ]
    }
   ],
   "source": [
    "# Logistic Regression for Home & Furniture Category\n",
    "\n",
    "y = data['Home_furniture']\n",
    "X = data[[ 'Age', 'Gender', 'FirstSignUp', 'Device_Type']]\n",
    "\n",
    "# Add a constant term to the features (required for statsmodels)\n",
    "X = sm.add_constant(X)\n",
    "\n",
    "# Create a logistic regression model\n",
    "logreg = sm.Logit(y, X)\n",
    "\n",
    "# Fit the model\n",
    "result = logreg.fit()\n",
    "\n",
    "# Display the summary of the model\n",
    "print(result.summary())"
   ]
  },
  {
   "cell_type": "markdown",
   "id": "cbcc8f73",
   "metadata": {},
   "source": [
    "# Logisitic Regression analyzing the significant variables in purchasing an item from the Home & Furniture category\n",
    "\n",
    "\n",
    "Model Interpretation: Constant- When all other coeffecients are 0 or not present the odds of purchasing a home and furniture item decreases by exp(-0.8007) or 55.05%\n",
    "\n",
    "Age- A 1 year increase in age increases the odds of buying a home and furniture item by exp(0.0005) or 0.05% keeping everything else constant.\n",
    "\n",
    "Gender- With 1 representing female, the odds of purchasing a home and furniture item increases by exp(0.3766) or 45.75% if the customer is a female.\n",
    "\n",
    "FirstSignUp- When a customer logs in as a first time sign up, the odds of purchasing a home and furniture item decreases by exp(-0.9528) or 61.46%.\n",
    "\n",
    "Device Type- With 1 representing web/computer, when a customer logs in by web/computer the odds of purchasing a home and furniture items decreases by exp(-0.2571) or 22.65%.\n",
    "\n",
    "Note:\n",
    "\n",
    "Marketing Channel variables (Facebook, Email, Youtube, Adwords & Organic) all proved to be insignificant predictors of purchase probability.\n",
    "\n"
   ]
  }
 ],
 "metadata": {
  "kernelspec": {
   "display_name": "Python 3 (ipykernel)",
   "language": "python",
   "name": "python3"
  },
  "language_info": {
   "codemirror_mode": {
    "name": "ipython",
    "version": 3
   },
   "file_extension": ".py",
   "mimetype": "text/x-python",
   "name": "python",
   "nbconvert_exporter": "python",
   "pygments_lexer": "ipython3",
   "version": "3.11.5"
  }
 },
 "nbformat": 4,
 "nbformat_minor": 5
}
