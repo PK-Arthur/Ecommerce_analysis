{
 "cells": [
  {
   "cell_type": "code",
   "execution_count": 1,
   "id": "1515e25a-f90e-4abe-8bb7-2e834a2e3468",
   "metadata": {},
   "outputs": [],
   "source": [
    "import pandas as pd\n",
    "import numpy as np\n",
    "from matplotlib import pyplot as plt\n",
    "%matplotlib inline\n",
    "import seaborn as sns"
   ]
  },
  {
   "cell_type": "code",
   "execution_count": 2,
   "id": "9beefa30-10c6-4b3f-9abe-3ca021e226b1",
   "metadata": {},
   "outputs": [],
   "source": [
    "df = pd.read_csv(\"segmentation_channels_correlation.csv\")"
   ]
  },
  {
   "cell_type": "code",
   "execution_count": 3,
   "id": "c03447c9-81fb-4c76-a57c-5b8f3643c6fb",
   "metadata": {},
   "outputs": [
    {
     "data": {
      "text/html": [
       "<div>\n",
       "<style scoped>\n",
       "    .dataframe tbody tr th:only-of-type {\n",
       "        vertical-align: middle;\n",
       "    }\n",
       "\n",
       "    .dataframe tbody tr th {\n",
       "        vertical-align: top;\n",
       "    }\n",
       "\n",
       "    .dataframe thead th {\n",
       "        text-align: right;\n",
       "    }\n",
       "</style>\n",
       "<table border=\"1\" class=\"dataframe\">\n",
       "  <thead>\n",
       "    <tr style=\"text-align: right;\">\n",
       "      <th></th>\n",
       "      <th>id</th>\n",
       "      <th>traffic_source</th>\n",
       "      <th>event_type</th>\n",
       "      <th>age</th>\n",
       "      <th>gender</th>\n",
       "      <th>country</th>\n",
       "    </tr>\n",
       "  </thead>\n",
       "  <tbody>\n",
       "    <tr>\n",
       "      <th>0</th>\n",
       "      <td>57725</td>\n",
       "      <td>Organic</td>\n",
       "      <td>purchase</td>\n",
       "      <td>70</td>\n",
       "      <td>F</td>\n",
       "      <td>China</td>\n",
       "    </tr>\n",
       "    <tr>\n",
       "      <th>1</th>\n",
       "      <td>59891</td>\n",
       "      <td>Facebook</td>\n",
       "      <td>purchase</td>\n",
       "      <td>70</td>\n",
       "      <td>M</td>\n",
       "      <td>Australia</td>\n",
       "    </tr>\n",
       "    <tr>\n",
       "      <th>2</th>\n",
       "      <td>96333</td>\n",
       "      <td>Adwords</td>\n",
       "      <td>purchase</td>\n",
       "      <td>70</td>\n",
       "      <td>F</td>\n",
       "      <td>South Korea</td>\n",
       "    </tr>\n",
       "    <tr>\n",
       "      <th>3</th>\n",
       "      <td>70321</td>\n",
       "      <td>Facebook</td>\n",
       "      <td>purchase</td>\n",
       "      <td>70</td>\n",
       "      <td>M</td>\n",
       "      <td>United Kingdom</td>\n",
       "    </tr>\n",
       "    <tr>\n",
       "      <th>4</th>\n",
       "      <td>40955</td>\n",
       "      <td>Facebook</td>\n",
       "      <td>purchase</td>\n",
       "      <td>70</td>\n",
       "      <td>F</td>\n",
       "      <td>China</td>\n",
       "    </tr>\n",
       "    <tr>\n",
       "      <th>...</th>\n",
       "      <td>...</td>\n",
       "      <td>...</td>\n",
       "      <td>...</td>\n",
       "      <td>...</td>\n",
       "      <td>...</td>\n",
       "      <td>...</td>\n",
       "    </tr>\n",
       "    <tr>\n",
       "      <th>13883</th>\n",
       "      <td>28775</td>\n",
       "      <td>Facebook</td>\n",
       "      <td>purchase</td>\n",
       "      <td>12</td>\n",
       "      <td>F</td>\n",
       "      <td>China</td>\n",
       "    </tr>\n",
       "    <tr>\n",
       "      <th>13884</th>\n",
       "      <td>81826</td>\n",
       "      <td>YouTube</td>\n",
       "      <td>purchase</td>\n",
       "      <td>12</td>\n",
       "      <td>F</td>\n",
       "      <td>United States</td>\n",
       "    </tr>\n",
       "    <tr>\n",
       "      <th>13885</th>\n",
       "      <td>40076</td>\n",
       "      <td>YouTube</td>\n",
       "      <td>purchase</td>\n",
       "      <td>12</td>\n",
       "      <td>F</td>\n",
       "      <td>China</td>\n",
       "    </tr>\n",
       "    <tr>\n",
       "      <th>13886</th>\n",
       "      <td>65443</td>\n",
       "      <td>Email</td>\n",
       "      <td>purchase</td>\n",
       "      <td>12</td>\n",
       "      <td>F</td>\n",
       "      <td>China</td>\n",
       "    </tr>\n",
       "    <tr>\n",
       "      <th>13887</th>\n",
       "      <td>10250</td>\n",
       "      <td>YouTube</td>\n",
       "      <td>purchase</td>\n",
       "      <td>12</td>\n",
       "      <td>F</td>\n",
       "      <td>Brasil</td>\n",
       "    </tr>\n",
       "  </tbody>\n",
       "</table>\n",
       "<p>13888 rows × 6 columns</p>\n",
       "</div>"
      ],
      "text/plain": [
       "          id traffic_source event_type  age gender         country\n",
       "0      57725        Organic   purchase   70      F           China\n",
       "1      59891       Facebook   purchase   70      M       Australia\n",
       "2      96333        Adwords   purchase   70      F     South Korea\n",
       "3      70321       Facebook   purchase   70      M  United Kingdom\n",
       "4      40955       Facebook   purchase   70      F           China\n",
       "...      ...            ...        ...  ...    ...             ...\n",
       "13883  28775       Facebook   purchase   12      F           China\n",
       "13884  81826        YouTube   purchase   12      F   United States\n",
       "13885  40076        YouTube   purchase   12      F           China\n",
       "13886  65443          Email   purchase   12      F           China\n",
       "13887  10250        YouTube   purchase   12      F          Brasil\n",
       "\n",
       "[13888 rows x 6 columns]"
      ]
     },
     "execution_count": 3,
     "metadata": {},
     "output_type": "execute_result"
    }
   ],
   "source": [
    "df\n"
   ]
  },
  {
   "cell_type": "code",
   "execution_count": 4,
   "id": "b2c67ad0-5968-4d6a-9362-26330b9e310c",
   "metadata": {},
   "outputs": [
    {
     "data": {
      "text/plain": [
       "Email       6282\n",
       "Adwords     4119\n",
       "Facebook    1425\n",
       "YouTube     1366\n",
       "Organic      696\n",
       "Name: traffic_source, dtype: int64"
      ]
     },
     "execution_count": 4,
     "metadata": {},
     "output_type": "execute_result"
    }
   ],
   "source": [
    "# Breakdown of Purchases by Channel\n",
    "channel_breakdown = df['traffic_source'].value_counts()\n",
    "channel_breakdown"
   ]
  },
  {
   "cell_type": "code",
   "execution_count": 5,
   "id": "9cb814dc-ec0d-4ec9-bc9a-52a3ee371ef5",
   "metadata": {},
   "outputs": [
    {
     "data": {
      "image/png": "[encoded data removed]",
      "text/plain": [
       "<Figure size 640x480 with 1 Axes>"
      ]
     },
     "metadata": {},
     "output_type": "display_data"
    }
   ],
   "source": [
    "channel_breakdown_graph = channel_breakdown.plot.bar(x='Channel', rot=90, title='Amount of Purchases By Channel')\n"
   ]
  },
  {
   "cell_type": "code",
   "execution_count": 6,
   "id": "f38f9477-c871-4e7b-9ffa-024b6a85b52f",
   "metadata": {},
   "outputs": [
    {
     "data": {
      "text/plain": [
       "count    13888.000000\n",
       "mean        40.987471\n",
       "std         16.958023\n",
       "min         12.000000\n",
       "25%         26.000000\n",
       "50%         41.000000\n",
       "75%         56.000000\n",
       "max         70.000000\n",
       "Name: age, dtype: float64"
      ]
     },
     "execution_count": 6,
     "metadata": {},
     "output_type": "execute_result"
    }
   ],
   "source": [
    "# Analyzing Different Age Groups To Put Them Into Bins\n",
    "df['age'].describe()"
   ]
  },
  {
   "cell_type": "code",
   "execution_count": 7,
   "id": "33ad0e31-904c-42f6-ba89-c33556a3c89a",
   "metadata": {},
   "outputs": [],
   "source": [
    "# Define bins as (0 - 25, 26 - 41, 42 - 57, 58 - 76)\n",
    "bins = [0, 25, 41, 57, 76]"
   ]
  },
  {
   "cell_type": "code",
   "execution_count": 8,
   "id": "75d628ee-2686-4ff0-b239-e8643f4cd067",
   "metadata": {},
   "outputs": [],
   "source": [
    "# Group Names For Bins\n",
    "group_names = [\"Gen Z\", \"Millennials\", \"Gen X\", \"Baby Boomers\"]"
   ]
  },
  {
   "cell_type": "code",
   "execution_count": 9,
   "id": "29d79f11-94ea-4d51-a9ad-0e40eb958251",
   "metadata": {},
   "outputs": [],
   "source": [
    "# Adding New Age Bucket Column\n",
    "df['age_buckets'] = pd.cut(df['age'], bins, labels=group_names)"
   ]
  },
  {
   "cell_type": "code",
   "execution_count": 10,
   "id": "d66235a2-99f1-4e38-a4a8-c0e6abda89c2",
   "metadata": {},
   "outputs": [
    {
     "data": {
      "text/html": [
       "<div>\n",
       "<style scoped>\n",
       "    .dataframe tbody tr th:only-of-type {\n",
       "        vertical-align: middle;\n",
       "    }\n",
       "\n",
       "    .dataframe tbody tr th {\n",
       "        vertical-align: top;\n",
       "    }\n",
       "\n",
       "    .dataframe thead th {\n",
       "        text-align: right;\n",
       "    }\n",
       "</style>\n",
       "<table border=\"1\" class=\"dataframe\">\n",
       "  <thead>\n",
       "    <tr style=\"text-align: right;\">\n",
       "      <th></th>\n",
       "      <th>id</th>\n",
       "      <th>traffic_source</th>\n",
       "      <th>event_type</th>\n",
       "      <th>age</th>\n",
       "      <th>gender</th>\n",
       "      <th>country</th>\n",
       "      <th>age_buckets</th>\n",
       "    </tr>\n",
       "  </thead>\n",
       "  <tbody>\n",
       "    <tr>\n",
       "      <th>0</th>\n",
       "      <td>57725</td>\n",
       "      <td>Organic</td>\n",
       "      <td>purchase</td>\n",
       "      <td>70</td>\n",
       "      <td>F</td>\n",
       "      <td>China</td>\n",
       "      <td>Baby Boomers</td>\n",
       "    </tr>\n",
       "    <tr>\n",
       "      <th>1</th>\n",
       "      <td>59891</td>\n",
       "      <td>Facebook</td>\n",
       "      <td>purchase</td>\n",
       "      <td>70</td>\n",
       "      <td>M</td>\n",
       "      <td>Australia</td>\n",
       "      <td>Baby Boomers</td>\n",
       "    </tr>\n",
       "    <tr>\n",
       "      <th>2</th>\n",
       "      <td>96333</td>\n",
       "      <td>Adwords</td>\n",
       "      <td>purchase</td>\n",
       "      <td>70</td>\n",
       "      <td>F</td>\n",
       "      <td>South Korea</td>\n",
       "      <td>Baby Boomers</td>\n",
       "    </tr>\n",
       "    <tr>\n",
       "      <th>3</th>\n",
       "      <td>70321</td>\n",
       "      <td>Facebook</td>\n",
       "      <td>purchase</td>\n",
       "      <td>70</td>\n",
       "      <td>M</td>\n",
       "      <td>United Kingdom</td>\n",
       "      <td>Baby Boomers</td>\n",
       "    </tr>\n",
       "    <tr>\n",
       "      <th>4</th>\n",
       "      <td>40955</td>\n",
       "      <td>Facebook</td>\n",
       "      <td>purchase</td>\n",
       "      <td>70</td>\n",
       "      <td>F</td>\n",
       "      <td>China</td>\n",
       "      <td>Baby Boomers</td>\n",
       "    </tr>\n",
       "    <tr>\n",
       "      <th>...</th>\n",
       "      <td>...</td>\n",
       "      <td>...</td>\n",
       "      <td>...</td>\n",
       "      <td>...</td>\n",
       "      <td>...</td>\n",
       "      <td>...</td>\n",
       "      <td>...</td>\n",
       "    </tr>\n",
       "    <tr>\n",
       "      <th>13883</th>\n",
       "      <td>28775</td>\n",
       "      <td>Facebook</td>\n",
       "      <td>purchase</td>\n",
       "      <td>12</td>\n",
       "      <td>F</td>\n",
       "      <td>China</td>\n",
       "      <td>Gen Z</td>\n",
       "    </tr>\n",
       "    <tr>\n",
       "      <th>13884</th>\n",
       "      <td>81826</td>\n",
       "      <td>YouTube</td>\n",
       "      <td>purchase</td>\n",
       "      <td>12</td>\n",
       "      <td>F</td>\n",
       "      <td>United States</td>\n",
       "      <td>Gen Z</td>\n",
       "    </tr>\n",
       "    <tr>\n",
       "      <th>13885</th>\n",
       "      <td>40076</td>\n",
       "      <td>YouTube</td>\n",
       "      <td>purchase</td>\n",
       "      <td>12</td>\n",
       "      <td>F</td>\n",
       "      <td>China</td>\n",
       "      <td>Gen Z</td>\n",
       "    </tr>\n",
       "    <tr>\n",
       "      <th>13886</th>\n",
       "      <td>65443</td>\n",
       "      <td>Email</td>\n",
       "      <td>purchase</td>\n",
       "      <td>12</td>\n",
       "      <td>F</td>\n",
       "      <td>China</td>\n",
       "      <td>Gen Z</td>\n",
       "    </tr>\n",
       "    <tr>\n",
       "      <th>13887</th>\n",
       "      <td>10250</td>\n",
       "      <td>YouTube</td>\n",
       "      <td>purchase</td>\n",
       "      <td>12</td>\n",
       "      <td>F</td>\n",
       "      <td>Brasil</td>\n",
       "      <td>Gen Z</td>\n",
       "    </tr>\n",
       "  </tbody>\n",
       "</table>\n",
       "<p>13888 rows × 7 columns</p>\n",
       "</div>"
      ],
      "text/plain": [
       "          id traffic_source event_type  age gender         country  \\\n",
       "0      57725        Organic   purchase   70      F           China   \n",
       "1      59891       Facebook   purchase   70      M       Australia   \n",
       "2      96333        Adwords   purchase   70      F     South Korea   \n",
       "3      70321       Facebook   purchase   70      M  United Kingdom   \n",
       "4      40955       Facebook   purchase   70      F           China   \n",
       "...      ...            ...        ...  ...    ...             ...   \n",
       "13883  28775       Facebook   purchase   12      F           China   \n",
       "13884  81826        YouTube   purchase   12      F   United States   \n",
       "13885  40076        YouTube   purchase   12      F           China   \n",
       "13886  65443          Email   purchase   12      F           China   \n",
       "13887  10250        YouTube   purchase   12      F          Brasil   \n",
       "\n",
       "        age_buckets  \n",
       "0      Baby Boomers  \n",
       "1      Baby Boomers  \n",
       "2      Baby Boomers  \n",
       "3      Baby Boomers  \n",
       "4      Baby Boomers  \n",
       "...             ...  \n",
       "13883         Gen Z  \n",
       "13884         Gen Z  \n",
       "13885         Gen Z  \n",
       "13886         Gen Z  \n",
       "13887         Gen Z  \n",
       "\n",
       "[13888 rows x 7 columns]"
      ]
     },
     "execution_count": 10,
     "metadata": {},
     "output_type": "execute_result"
    }
   ],
   "source": [
    "df"
   ]
  },
  {
   "cell_type": "code",
   "execution_count": 11,
   "id": "770d3601-d709-4430-8bb9-b263fff734b8",
   "metadata": {},
   "outputs": [],
   "source": [
    "#How Many Purchases By Age Group\n",
    "for_age_bucket = df['age_buckets'].value_counts()"
   ]
  },
  {
   "cell_type": "code",
   "execution_count": 12,
   "id": "13085987-8e7f-4bec-ac3f-372ffa1290d6",
   "metadata": {},
   "outputs": [
    {
     "data": {
      "text/plain": [
       "Millennials     3807\n",
       "Gen X           3750\n",
       "Gen Z           3283\n",
       "Baby Boomers    3048\n",
       "Name: age_buckets, dtype: int64"
      ]
     },
     "execution_count": 12,
     "metadata": {},
     "output_type": "execute_result"
    }
   ],
   "source": [
    "for_age_bucket"
   ]
  },
  {
   "cell_type": "code",
   "execution_count": 13,
   "id": "8f61aae5-378e-4464-b22a-02ece3bfba55",
   "metadata": {},
   "outputs": [
    {
     "data": {
      "image/png": "[encoded data removed]",
      "text/plain": [
       "<Figure size 640x480 with 1 Axes>"
      ]
     },
     "metadata": {},
     "output_type": "display_data"
    }
   ],
   "source": [
    "age_buckets_graph = for_age_bucket.plot.bar(x='age_buckets', ylim=3000, rot=90, title='Amount of Purchases By Age Bucket')\n"
   ]
  },
  {
   "cell_type": "code",
   "execution_count": 16,
   "id": "01c3126a-d9c9-49da-a0ee-312b47845bec",
   "metadata": {},
   "outputs": [],
   "source": [
    "## Purchases Broken Down to Each Channel\n",
    "age_channel = df[['age_buckets', 'traffic_source']]"
   ]
  },
  {
   "cell_type": "code",
   "execution_count": 17,
   "id": "81eb4eda-3275-4326-baf8-8e090d05f8a8",
   "metadata": {},
   "outputs": [],
   "source": [
    "# Adwords Analysis\n",
    "adwords = age_channel[age_channel['traffic_source']=='Adwords']"
   ]
  },
  {
   "cell_type": "code",
   "execution_count": 18,
   "id": "71aa0b9c-9c3b-47b0-b36d-dc9ca3c74ee3",
   "metadata": {},
   "outputs": [
    {
     "data": {
      "text/plain": [
       "age_buckets\n",
       "Gen Z            950\n",
       "Millennials     1120\n",
       "Gen X           1142\n",
       "Baby Boomers     907\n",
       "Name: traffic_source, dtype: int64"
      ]
     },
     "execution_count": 18,
     "metadata": {},
     "output_type": "execute_result"
    }
   ],
   "source": [
    "adwords = adwords.groupby('age_buckets')['traffic_source'].count()\n",
    "adwords"
   ]
  },
  {
   "cell_type": "code",
   "execution_count": 19,
   "id": "0020aa0d-848e-4afd-a8b1-70b76c51951f",
   "metadata": {},
   "outputs": [
    {
     "data": {
      "image/png": "[encoded data removed]",
      "text/plain": [
       "<Figure size 640x480 with 1 Axes>"
      ]
     },
     "metadata": {},
     "output_type": "display_data"
    }
   ],
   "source": [
    "adwords_graph = adwords.plot.bar(x='age_buckets', ylim=800, rot=90, title='Amount of Purchases By Adwords')\n"
   ]
  },
  {
   "cell_type": "code",
   "execution_count": 20,
   "id": "65f8e5c5-9fee-4e39-9a26-f1f6b03551e2",
   "metadata": {},
   "outputs": [],
   "source": [
    "# Email analysis \n",
    "email = age_channel[age_channel['traffic_source']=='Email']"
   ]
  },
  {
   "cell_type": "code",
   "execution_count": 21,
   "id": "1ac84b2e-ee9c-4024-b389-9ebd60b91161",
   "metadata": {},
   "outputs": [
    {
     "data": {
      "text/plain": [
       "age_buckets\n",
       "Gen Z           1455\n",
       "Millennials     1782\n",
       "Gen X           1684\n",
       "Baby Boomers    1361\n",
       "Name: traffic_source, dtype: int64"
      ]
     },
     "execution_count": 21,
     "metadata": {},
     "output_type": "execute_result"
    }
   ],
   "source": [
    "email = email.groupby('age_buckets')['traffic_source'].count()\n",
    "email\n"
   ]
  },
  {
   "cell_type": "code",
   "execution_count": 22,
   "id": "b783adec-e77c-45a1-9e7a-9660d28a7de8",
   "metadata": {},
   "outputs": [
    {
     "data": {
      "image/png": "[encoded data removed]",
      "text/plain": [
       "<Figure size 640x480 with 1 Axes>"
      ]
     },
     "metadata": {},
     "output_type": "display_data"
    }
   ],
   "source": [
    "email_graph = email.plot.bar(x='age_buckets', ylim=1000, rot=90, title='Amount of Purchases By Email')"
   ]
  },
  {
   "cell_type": "code",
   "execution_count": 24,
   "id": "0badb092-9f34-4e66-8f77-5ed860c34ba8",
   "metadata": {},
   "outputs": [],
   "source": [
    "# Facebook analysis\n",
    "facebook = age_channel[age_channel['traffic_source']=='Facebook']"
   ]
  },
  {
   "cell_type": "code",
   "execution_count": 25,
   "id": "85cada58-2996-4ea4-82f4-7feb8b89c817",
   "metadata": {},
   "outputs": [
    {
     "data": {
      "text/plain": [
       "age_buckets\n",
       "Gen Z           350\n",
       "Millennials     376\n",
       "Gen X           365\n",
       "Baby Boomers    334\n",
       "Name: traffic_source, dtype: int64"
      ]
     },
     "execution_count": 25,
     "metadata": {},
     "output_type": "execute_result"
    }
   ],
   "source": [
    "facebook = facebook.groupby('age_buckets')['traffic_source'].count()\n",
    "facebook"
   ]
  },
  {
   "cell_type": "code",
   "execution_count": 26,
   "id": "5ee70cba-37bc-44ae-96a6-6f5f1ee2d117",
   "metadata": {},
   "outputs": [
    {
     "data": {
      "image/png": "[encoded data removed]",
      "text/plain": [
       "<Figure size 640x480 with 1 Axes>"
      ]
     },
     "metadata": {},
     "output_type": "display_data"
    }
   ],
   "source": [
    "facebook_graph = facebook.plot.bar(x='age_buckets', ylim=200, rot=90, title='Amount of Purchases From Faceook')\n"
   ]
  },
  {
   "cell_type": "code",
   "execution_count": 28,
   "id": "4f6cdb54-08de-4b90-bba7-9aad0a4b52f9",
   "metadata": {},
   "outputs": [],
   "source": [
    "# youtube analysis\n",
    "youtube = age_channel[age_channel['traffic_source']=='YouTube']"
   ]
  },
  {
   "cell_type": "code",
   "execution_count": 29,
   "id": "61bdd8e3-6e6b-4028-a43f-47d89daceae8",
   "metadata": {},
   "outputs": [
    {
     "data": {
      "text/plain": [
       "age_buckets\n",
       "Gen Z           335\n",
       "Millennials     354\n",
       "Gen X           376\n",
       "Baby Boomers    301\n",
       "Name: traffic_source, dtype: int64"
      ]
     },
     "execution_count": 29,
     "metadata": {},
     "output_type": "execute_result"
    }
   ],
   "source": [
    "youtube = youtube.groupby('age_buckets')['traffic_source'].count()\n",
    "youtube"
   ]
  },
  {
   "cell_type": "code",
   "execution_count": 30,
   "id": "9b4d2193-b8c4-4ed3-963f-84581b64a8f2",
   "metadata": {},
   "outputs": [
    {
     "data": {
      "image/png": "[encoded data removed]",
      "text/plain": [
       "<Figure size 640x480 with 1 Axes>"
      ]
     },
     "metadata": {},
     "output_type": "display_data"
    }
   ],
   "source": [
    "youtube = youtube.plot.bar(x='age_buckets', ylim=200, rot=90, title='Amount of Purchases From YouTube')"
   ]
  },
  {
   "cell_type": "code",
   "execution_count": 31,
   "id": "877718dc-c591-4c64-b165-f4d94f5d2858",
   "metadata": {},
   "outputs": [],
   "source": [
    "# Organic analysis\n",
    "organic = age_channel[age_channel['traffic_source']=='Organic']"
   ]
  },
  {
   "cell_type": "code",
   "execution_count": 32,
   "id": "bdd8ae07-5065-49f2-b769-6bfdb89c8e51",
   "metadata": {},
   "outputs": [
    {
     "data": {
      "text/plain": [
       "age_buckets\n",
       "Gen Z           193\n",
       "Millennials     175\n",
       "Gen X           183\n",
       "Baby Boomers    145\n",
       "Name: traffic_source, dtype: int64"
      ]
     },
     "execution_count": 32,
     "metadata": {},
     "output_type": "execute_result"
    }
   ],
   "source": [
    "organic = organic.groupby('age_buckets')['traffic_source'].count()\n",
    "organic"
   ]
  },
  {
   "cell_type": "code",
   "execution_count": 33,
   "id": "1e9e0a8a-93bd-4c88-ae32-82cec7b90b06",
   "metadata": {},
   "outputs": [
    {
     "data": {
      "image/png": "[encoded data removed]",
      "text/plain": [
       "<Figure size 640x480 with 1 Axes>"
      ]
     },
     "metadata": {},
     "output_type": "display_data"
    }
   ],
   "source": [
    "organic_graph = organic.plot.bar(x='age_buckets', ylim=100, rot=90, title='Amount of Purchases From Organic')"
   ]
  },
  {
   "cell_type": "code",
   "execution_count": 34,
   "id": "186eb7d8-0874-4f59-b50d-d737a79d7c0b",
   "metadata": {},
   "outputs": [],
   "source": [
    "# Logistic regression to predict age of someone purchasing from channel"
   ]
  },
  {
   "cell_type": "code",
   "execution_count": 41,
   "id": "d25cdde3-cce2-4a7e-896b-7cfa73fba3c9",
   "metadata": {},
   "outputs": [],
   "source": [
    "import sklearn\n",
    "from sklearn.linear_model import LogisticRegression\n",
    "from sklearn.metrics import classification_report, confusion_matrix\n",
    "from sklearn.model_selection import train_test_split\n",
    "sklearn.set_config(print_changed_only=False)"
   ]
  },
  {
   "cell_type": "code",
   "execution_count": 42,
   "id": "c256a903-f8df-48fb-97c0-8a6c7ccf261d",
   "metadata": {},
   "outputs": [],
   "source": [
    "## Selecting only relevant columns\n",
    "df_2 = df[['traffic_source', 'age']]"
   ]
  },
  {
   "cell_type": "code",
   "execution_count": 43,
   "id": "20ec8f24-02c2-47a3-ae1c-4a2a315b78fe",
   "metadata": {},
   "outputs": [
    {
     "data": {
      "text/html": [
       "<div>\n",
       "<style scoped>\n",
       "    .dataframe tbody tr th:only-of-type {\n",
       "        vertical-align: middle;\n",
       "    }\n",
       "\n",
       "    .dataframe tbody tr th {\n",
       "        vertical-align: top;\n",
       "    }\n",
       "\n",
       "    .dataframe thead th {\n",
       "        text-align: right;\n",
       "    }\n",
       "</style>\n",
       "<table border=\"1\" class=\"dataframe\">\n",
       "  <thead>\n",
       "    <tr style=\"text-align: right;\">\n",
       "      <th></th>\n",
       "      <th>traffic_source</th>\n",
       "      <th>age</th>\n",
       "    </tr>\n",
       "  </thead>\n",
       "  <tbody>\n",
       "    <tr>\n",
       "      <th>0</th>\n",
       "      <td>Organic</td>\n",
       "      <td>70</td>\n",
       "    </tr>\n",
       "    <tr>\n",
       "      <th>1</th>\n",
       "      <td>Facebook</td>\n",
       "      <td>70</td>\n",
       "    </tr>\n",
       "    <tr>\n",
       "      <th>2</th>\n",
       "      <td>Adwords</td>\n",
       "      <td>70</td>\n",
       "    </tr>\n",
       "    <tr>\n",
       "      <th>3</th>\n",
       "      <td>Facebook</td>\n",
       "      <td>70</td>\n",
       "    </tr>\n",
       "    <tr>\n",
       "      <th>4</th>\n",
       "      <td>Facebook</td>\n",
       "      <td>70</td>\n",
       "    </tr>\n",
       "    <tr>\n",
       "      <th>...</th>\n",
       "      <td>...</td>\n",
       "      <td>...</td>\n",
       "    </tr>\n",
       "    <tr>\n",
       "      <th>13883</th>\n",
       "      <td>Facebook</td>\n",
       "      <td>12</td>\n",
       "    </tr>\n",
       "    <tr>\n",
       "      <th>13884</th>\n",
       "      <td>YouTube</td>\n",
       "      <td>12</td>\n",
       "    </tr>\n",
       "    <tr>\n",
       "      <th>13885</th>\n",
       "      <td>YouTube</td>\n",
       "      <td>12</td>\n",
       "    </tr>\n",
       "    <tr>\n",
       "      <th>13886</th>\n",
       "      <td>Email</td>\n",
       "      <td>12</td>\n",
       "    </tr>\n",
       "    <tr>\n",
       "      <th>13887</th>\n",
       "      <td>YouTube</td>\n",
       "      <td>12</td>\n",
       "    </tr>\n",
       "  </tbody>\n",
       "</table>\n",
       "<p>13888 rows × 2 columns</p>\n",
       "</div>"
      ],
      "text/plain": [
       "      traffic_source  age\n",
       "0            Organic   70\n",
       "1           Facebook   70\n",
       "2            Adwords   70\n",
       "3           Facebook   70\n",
       "4           Facebook   70\n",
       "...              ...  ...\n",
       "13883       Facebook   12\n",
       "13884        YouTube   12\n",
       "13885        YouTube   12\n",
       "13886          Email   12\n",
       "13887        YouTube   12\n",
       "\n",
       "[13888 rows x 2 columns]"
      ]
     },
     "execution_count": 43,
     "metadata": {},
     "output_type": "execute_result"
    }
   ],
   "source": [
    "df_2\n"
   ]
  },
  {
   "cell_type": "code",
   "execution_count": 44,
   "id": "eb4e31eb-6ce1-42b8-b5f3-5973afeef57b",
   "metadata": {},
   "outputs": [
    {
     "data": {
      "text/html": [
       "<div>\n",
       "<style scoped>\n",
       "    .dataframe tbody tr th:only-of-type {\n",
       "        vertical-align: middle;\n",
       "    }\n",
       "\n",
       "    .dataframe tbody tr th {\n",
       "        vertical-align: top;\n",
       "    }\n",
       "\n",
       "    .dataframe thead th {\n",
       "        text-align: right;\n",
       "    }\n",
       "</style>\n",
       "<table border=\"1\" class=\"dataframe\">\n",
       "  <thead>\n",
       "    <tr style=\"text-align: right;\">\n",
       "      <th></th>\n",
       "      <th>age</th>\n",
       "      <th>traffic_source_Adwords</th>\n",
       "      <th>traffic_source_Email</th>\n",
       "      <th>traffic_source_Facebook</th>\n",
       "      <th>traffic_source_Organic</th>\n",
       "      <th>traffic_source_YouTube</th>\n",
       "    </tr>\n",
       "  </thead>\n",
       "  <tbody>\n",
       "    <tr>\n",
       "      <th>0</th>\n",
       "      <td>70</td>\n",
       "      <td>0</td>\n",
       "      <td>0</td>\n",
       "      <td>0</td>\n",
       "      <td>1</td>\n",
       "      <td>0</td>\n",
       "    </tr>\n",
       "    <tr>\n",
       "      <th>1</th>\n",
       "      <td>70</td>\n",
       "      <td>0</td>\n",
       "      <td>0</td>\n",
       "      <td>1</td>\n",
       "      <td>0</td>\n",
       "      <td>0</td>\n",
       "    </tr>\n",
       "    <tr>\n",
       "      <th>2</th>\n",
       "      <td>70</td>\n",
       "      <td>1</td>\n",
       "      <td>0</td>\n",
       "      <td>0</td>\n",
       "      <td>0</td>\n",
       "      <td>0</td>\n",
       "    </tr>\n",
       "    <tr>\n",
       "      <th>3</th>\n",
       "      <td>70</td>\n",
       "      <td>0</td>\n",
       "      <td>0</td>\n",
       "      <td>1</td>\n",
       "      <td>0</td>\n",
       "      <td>0</td>\n",
       "    </tr>\n",
       "    <tr>\n",
       "      <th>4</th>\n",
       "      <td>70</td>\n",
       "      <td>0</td>\n",
       "      <td>0</td>\n",
       "      <td>1</td>\n",
       "      <td>0</td>\n",
       "      <td>0</td>\n",
       "    </tr>\n",
       "    <tr>\n",
       "      <th>...</th>\n",
       "      <td>...</td>\n",
       "      <td>...</td>\n",
       "      <td>...</td>\n",
       "      <td>...</td>\n",
       "      <td>...</td>\n",
       "      <td>...</td>\n",
       "    </tr>\n",
       "    <tr>\n",
       "      <th>13883</th>\n",
       "      <td>12</td>\n",
       "      <td>0</td>\n",
       "      <td>0</td>\n",
       "      <td>1</td>\n",
       "      <td>0</td>\n",
       "      <td>0</td>\n",
       "    </tr>\n",
       "    <tr>\n",
       "      <th>13884</th>\n",
       "      <td>12</td>\n",
       "      <td>0</td>\n",
       "      <td>0</td>\n",
       "      <td>0</td>\n",
       "      <td>0</td>\n",
       "      <td>1</td>\n",
       "    </tr>\n",
       "    <tr>\n",
       "      <th>13885</th>\n",
       "      <td>12</td>\n",
       "      <td>0</td>\n",
       "      <td>0</td>\n",
       "      <td>0</td>\n",
       "      <td>0</td>\n",
       "      <td>1</td>\n",
       "    </tr>\n",
       "    <tr>\n",
       "      <th>13886</th>\n",
       "      <td>12</td>\n",
       "      <td>0</td>\n",
       "      <td>1</td>\n",
       "      <td>0</td>\n",
       "      <td>0</td>\n",
       "      <td>0</td>\n",
       "    </tr>\n",
       "    <tr>\n",
       "      <th>13887</th>\n",
       "      <td>12</td>\n",
       "      <td>0</td>\n",
       "      <td>0</td>\n",
       "      <td>0</td>\n",
       "      <td>0</td>\n",
       "      <td>1</td>\n",
       "    </tr>\n",
       "  </tbody>\n",
       "</table>\n",
       "<p>13888 rows × 6 columns</p>\n",
       "</div>"
      ],
      "text/plain": [
       "       age  traffic_source_Adwords  traffic_source_Email  \\\n",
       "0       70                       0                     0   \n",
       "1       70                       0                     0   \n",
       "2       70                       1                     0   \n",
       "3       70                       0                     0   \n",
       "4       70                       0                     0   \n",
       "...    ...                     ...                   ...   \n",
       "13883   12                       0                     0   \n",
       "13884   12                       0                     0   \n",
       "13885   12                       0                     0   \n",
       "13886   12                       0                     1   \n",
       "13887   12                       0                     0   \n",
       "\n",
       "       traffic_source_Facebook  traffic_source_Organic  traffic_source_YouTube  \n",
       "0                            0                       1                       0  \n",
       "1                            1                       0                       0  \n",
       "2                            0                       0                       0  \n",
       "3                            1                       0                       0  \n",
       "4                            1                       0                       0  \n",
       "...                        ...                     ...                     ...  \n",
       "13883                        1                       0                       0  \n",
       "13884                        0                       0                       1  \n",
       "13885                        0                       0                       1  \n",
       "13886                        0                       0                       0  \n",
       "13887                        0                       0                       1  \n",
       "\n",
       "[13888 rows x 6 columns]"
      ]
     },
     "execution_count": 44,
     "metadata": {},
     "output_type": "execute_result"
    }
   ],
   "source": [
    "## Changing categorical variables to numbers\n",
    "df_2 = pd.get_dummies(df_2)\n",
    "df_2"
   ]
  },
  {
   "cell_type": "code",
   "execution_count": 45,
   "id": "da979961-3fce-46c6-8e74-29648a883bad",
   "metadata": {},
   "outputs": [],
   "source": [
    "## Spliting my data for testing\n",
    "X_train, X_test, y_train, y_test = train_test_split(df_2.drop('age', axis=1),df_2['age'])"
   ]
  },
  {
   "cell_type": "code",
   "execution_count": 46,
   "id": "7594ca4d-2db6-41e8-96c8-f049519d8dc0",
   "metadata": {},
   "outputs": [
    {
     "data": {
      "text/plain": [
       "LogisticRegression(C=1.0, class_weight=None, dual=False, fit_intercept=True,\n",
       "                   intercept_scaling=1, l1_ratio=None, max_iter=100,\n",
       "                   multi_class='auto', n_jobs=None, penalty='l2',\n",
       "                   random_state=None, solver='lbfgs', tol=0.0001, verbose=0,\n",
       "                   warm_start=False)"
      ]
     },
     "execution_count": 46,
     "metadata": {},
     "output_type": "execute_result"
    }
   ],
   "source": [
    "model = LogisticRegression(solver='lbfgs')\n",
    "model.fit(X_train, y_train)"
   ]
  },
  {
   "cell_type": "code",
   "execution_count": 47,
   "id": "666e4802-da02-40d8-aac0-61c3179f5921",
   "metadata": {},
   "outputs": [
    {
     "name": "stderr",
     "output_type": "stream",
     "text": [
      "/Users/PKArthur/opt/anaconda3/lib/python3.9/site-packages/sklearn/base.py:450: UserWarning: X does not have valid feature names, but LogisticRegression was fitted with feature names\n",
      "  warnings.warn(\n"
     ]
    },
    {
     "data": {
      "text/plain": [
       "array([64])"
      ]
     },
     "execution_count": 47,
     "metadata": {},
     "output_type": "execute_result"
    }
   ],
   "source": [
    "# Predicting the age of someone most likely to purchase from an ad show on YouTube\n",
    "model.predict(np.array([[0,0,0,0,1]]))"
   ]
  },
  {
   "cell_type": "code",
   "execution_count": 48,
   "id": "a23d2440-0af0-4b8f-80bd-2574a5c524fe",
   "metadata": {},
   "outputs": [
    {
     "name": "stderr",
     "output_type": "stream",
     "text": [
      "/Users/PKArthur/opt/anaconda3/lib/python3.9/site-packages/sklearn/base.py:450: UserWarning: X does not have valid feature names, but LogisticRegression was fitted with feature names\n",
      "  warnings.warn(\n"
     ]
    },
    {
     "data": {
      "text/plain": [
       "array([38])"
      ]
     },
     "execution_count": 48,
     "metadata": {},
     "output_type": "execute_result"
    }
   ],
   "source": [
    "# Predicting the age of someone most likely to purchase from an ad show on Adwords\n",
    "model.predict(np.array([[1,0,0,0,0]]))"
   ]
  },
  {
   "cell_type": "code",
   "execution_count": 49,
   "id": "88ca8334-2311-413d-a44d-0173eaa873f6",
   "metadata": {},
   "outputs": [
    {
     "name": "stderr",
     "output_type": "stream",
     "text": [
      "/Users/PKArthur/opt/anaconda3/lib/python3.9/site-packages/sklearn/base.py:450: UserWarning: X does not have valid feature names, but LogisticRegression was fitted with feature names\n",
      "  warnings.warn(\n"
     ]
    },
    {
     "data": {
      "text/plain": [
       "array([43])"
      ]
     },
     "execution_count": 49,
     "metadata": {},
     "output_type": "execute_result"
    }
   ],
   "source": [
    "# Predicting the age of someone most likely to purchase from an Email Ad\n",
    "model.predict(np.array([[0,1,0,0,0]]))"
   ]
  },
  {
   "cell_type": "code",
   "execution_count": 50,
   "id": "84252a46-d22b-44cf-a0f9-545c40a94445",
   "metadata": {},
   "outputs": [
    {
     "name": "stderr",
     "output_type": "stream",
     "text": [
      "/Users/PKArthur/opt/anaconda3/lib/python3.9/site-packages/sklearn/base.py:450: UserWarning: X does not have valid feature names, but LogisticRegression was fitted with feature names\n",
      "  warnings.warn(\n"
     ]
    },
    {
     "data": {
      "text/plain": [
       "array([21])"
      ]
     },
     "execution_count": 50,
     "metadata": {},
     "output_type": "execute_result"
    }
   ],
   "source": [
    "# Predicting the age of someone most likely to purchase from a Facebook Ad\n",
    "model.predict(np.array([[0,0,1,0,0]]))"
   ]
  },
  {
   "cell_type": "code",
   "execution_count": 51,
   "id": "2e8b5822-40b7-46d0-a1df-89f07be20f39",
   "metadata": {},
   "outputs": [
    {
     "name": "stderr",
     "output_type": "stream",
     "text": [
      "/Users/PKArthur/opt/anaconda3/lib/python3.9/site-packages/sklearn/base.py:450: UserWarning: X does not have valid feature names, but LogisticRegression was fitted with feature names\n",
      "  warnings.warn(\n"
     ]
    },
    {
     "data": {
      "text/plain": [
       "array([25])"
      ]
     },
     "execution_count": 51,
     "metadata": {},
     "output_type": "execute_result"
    }
   ],
   "source": [
    "# Predicting the age of someone most likely to purchase from seeing the product Organically\n",
    "model.predict(np.array([[0,0,0,1,0]]))"
   ]
  },
  {
   "cell_type": "code",
   "execution_count": null,
   "id": "97c39068-8f51-4f16-98b9-572130316d13",
   "metadata": {},
   "outputs": [],
   "source": []
  }
 ],
 "metadata": {
  "kernelspec": {
   "display_name": "Python 3 (ipykernel)",
   "language": "python",
   "name": "python3"
  },
  "language_info": {
   "codemirror_mode": {
    "name": "ipython",
    "version": 3
   },
   "file_extension": ".py",
   "mimetype": "text/x-python",
   "name": "python",
   "nbconvert_exporter": "python",
   "pygments_lexer": "ipython3",
   "version": "3.9.13"
  }
 },
 "nbformat": 4,
 "nbformat_minor": 5
}
